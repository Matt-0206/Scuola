{
 "cells": [
  {
   "cell_type": "code",
   "execution_count": 5,
   "id": "7baac5c1-101c-4ec9-a39a-579e3d4ebd6a",
   "metadata": {},
   "outputs": [],
   "source": [
    "lista = [10, 90, 76, 2, 88, 45, 98, 18, 73, 61] "
   ]
  },
  {
   "cell_type": "code",
   "execution_count": 7,
   "id": "47f8301f-19fc-4dc3-8e85-55c7c5475756",
   "metadata": {},
   "outputs": [
    {
     "name": "stdout",
     "output_type": "stream",
     "text": [
      "10\n",
      "90\n",
      "76\n",
      "2\n",
      "88\n",
      "45\n",
      "98\n",
      "18\n",
      "73\n",
      "61\n"
     ]
    }
   ],
   "source": [
    "for num in lista:\n",
    "    \n",
    "    print (num)"
   ]
  },
  {
   "cell_type": "code",
   "execution_count": 9,
   "id": "3b9e4041-1975-4911-b792-4fe5bb239795",
   "metadata": {},
   "outputs": [
    {
     "ename": "SyntaxError",
     "evalue": "Missing parentheses in call to 'print'. Did you mean print(...)? (1714190435.py, line 3)",
     "output_type": "error",
     "traceback": [
      "\u001b[0;36m  Cell \u001b[0;32mIn[9], line 3\u001b[0;36m\u001b[0m\n\u001b[0;31m    print num\u001b[0m\n\u001b[0m    ^\u001b[0m\n\u001b[0;31mSyntaxError\u001b[0m\u001b[0;31m:\u001b[0m Missing parentheses in call to 'print'. Did you mean print(...)?\n"
     ]
    }
   ],
   "source": [
    "for num in lista:\n",
    "    \n",
    "    print num"
   ]
  },
  {
   "cell_type": "code",
   "execution_count": 15,
   "id": "3f7c5dfb-10bb-46b3-b2bd-c63e62a438bf",
   "metadata": {},
   "outputs": [
    {
     "name": "stdout",
     "output_type": "stream",
     "text": [
      "20\n",
      "180\n",
      "152\n",
      "4\n",
      "176\n",
      "90\n",
      "196\n",
      "36\n",
      "146\n",
      "122\n"
     ]
    }
   ],
   "source": [
    "for num in lista:\n",
    "    \n",
    "    print (num * 2)"
   ]
  },
  {
   "cell_type": "code",
   "execution_count": 17,
   "id": "49abb9b4-3e6f-4778-9da3-ae30148a555c",
   "metadata": {},
   "outputs": [
    {
     "name": "stdout",
     "output_type": "stream",
     "text": [
      "5.0\n",
      "45.0\n",
      "38.0\n",
      "1.0\n",
      "44.0\n",
      "22.5\n",
      "49.0\n",
      "9.0\n",
      "36.5\n",
      "30.5\n"
     ]
    }
   ],
   "source": [
    "for num in lista:\n",
    "    \n",
    "    print (num / 2)"
   ]
  },
  {
   "cell_type": "code",
   "execution_count": 19,
   "id": "e9ad14f7-5564-444b-bb2e-917524009ebf",
   "metadata": {},
   "outputs": [
    {
     "name": "stdout",
     "output_type": "stream",
     "text": [
      "10.5\n",
      "90.5\n",
      "76.5\n",
      "2.5\n",
      "88.5\n",
      "45.5\n",
      "98.5\n",
      "18.5\n",
      "73.5\n",
      "61.5\n"
     ]
    }
   ],
   "source": [
    "for num in lista:\n",
    "    \n",
    "    print (num + 0.5)"
   ]
  },
  {
   "cell_type": "code",
   "execution_count": null,
   "id": "539c670f-1c79-42e0-8289-fbc4750c4f88",
   "metadata": {},
   "outputs": [],
   "source": []
  }
 ],
 "metadata": {
  "kernelspec": {
   "display_name": "Python 3 (ipykernel)",
   "language": "python",
   "name": "python3"
  },
  "language_info": {
   "codemirror_mode": {
    "name": "ipython",
    "version": 3
   },
   "file_extension": ".py",
   "mimetype": "text/x-python",
   "name": "python",
   "nbconvert_exporter": "python",
   "pygments_lexer": "ipython3",
   "version": "3.11.5"
  }
 },
 "nbformat": 4,
 "nbformat_minor": 5
}
