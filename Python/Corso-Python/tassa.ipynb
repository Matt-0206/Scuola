{
 "cells": [
  {
   "cell_type": "code",
   "execution_count": null,
   "id": "b0008bb7-f88b-4ede-a3ad-9c9700199596",
   "metadata": {},
   "outputs": [],
   "source": [
    "#operazione per calcolare la percentuale"
   ]
  },
  {
   "cell_type": "code",
   "execution_count": 11,
   "id": "dc079e97-9b90-423b-bd02-8dac5a8c93a8",
   "metadata": {},
   "outputs": [
    {
     "data": {
      "text/plain": [
       "100.0"
      ]
     },
     "execution_count": 11,
     "metadata": {},
     "output_type": "execute_result"
    }
   ],
   "source": [
    "1000 / 100 *    10"
   ]
  },
  {
   "cell_type": "code",
   "execution_count": null,
   "id": "c9e5c935-1482-44fa-8bf8-d3ad12704f34",
   "metadata": {},
   "outputs": [],
   "source": [
    "#operazione per calcolare la percentuale ma abbreviata"
   ]
  },
  {
   "cell_type": "code",
   "execution_count": 13,
   "id": "8d548845-793e-470f-b8fa-a66058c12d78",
   "metadata": {},
   "outputs": [
    {
     "data": {
      "text/plain": [
       "100.0"
      ]
     },
     "execution_count": 13,
     "metadata": {},
     "output_type": "execute_result"
    }
   ],
   "source": [
    "1000 * 0.10"
   ]
  },
  {
   "cell_type": "markdown",
   "id": "ad494766-2533-488c-a2e3-e696d6b68a9d",
   "metadata": {},
   "source": [
    "1000"
   ]
  },
  {
   "cell_type": "code",
   "execution_count": null,
   "id": "1efd8486-c5f2-4190-af56-75c4a0a2c72f",
   "metadata": {},
   "outputs": [],
   "source": [
    "#funzione per calcolare il 10% del numero "
   ]
  },
  {
   "cell_type": "code",
   "execution_count": 15,
   "id": "3cd034b2-a517-4527-b60b-7274a66a003d",
   "metadata": {},
   "outputs": [],
   "source": [
    "def tax(subtotal):\n",
    "    \n",
    "    return subtotal * 0.10"
   ]
  },
  {
   "cell_type": "code",
   "execution_count": 19,
   "id": "3844ed97-f599-4f88-b000-4c41eb0c9a54",
   "metadata": {},
   "outputs": [
    {
     "data": {
      "text/plain": [
       "375.0"
      ]
     },
     "execution_count": 19,
     "metadata": {},
     "output_type": "execute_result"
    }
   ],
   "source": [
    "tax(3750)"
   ]
  },
  {
   "cell_type": "code",
   "execution_count": 21,
   "id": "b2bfa747-72ec-43a2-9c7a-4d833ea2cb36",
   "metadata": {},
   "outputs": [
    {
     "data": {
      "text/plain": [
       "1020.0"
      ]
     },
     "execution_count": 21,
     "metadata": {},
     "output_type": "execute_result"
    }
   ],
   "source": [
    "tax(10200)"
   ]
  },
  {
   "cell_type": "code",
   "execution_count": 23,
   "id": "e131a00a-4b39-489c-8417-a70784a983dc",
   "metadata": {},
   "outputs": [
    {
     "data": {
      "text/plain": [
       "3375"
      ]
     },
     "execution_count": 23,
     "metadata": {},
     "output_type": "execute_result"
    }
   ],
   "source": [
    "3750-375"
   ]
  },
  {
   "cell_type": "code",
   "execution_count": null,
   "id": "c9f5a196-06ca-4279-aefd-8f778f059e8a",
   "metadata": {},
   "outputs": [],
   "source": [
    "#funzione che dice il valore di a"
   ]
  },
  {
   "cell_type": "code",
   "execution_count": 36,
   "id": "7cad7c59-5686-4be0-a437-56ee16d1ecb8",
   "metadata": {},
   "outputs": [],
   "source": [
    "def set_a():\n",
    "    \n",
    "    a = 10\n",
    "    \n",
    "    print(\"Il valore di a: \", a)"
   ]
  },
  {
   "cell_type": "code",
   "execution_count": 38,
   "id": "f78b9aa7-00df-404b-a11d-fb0e93338229",
   "metadata": {},
   "outputs": [
    {
     "name": "stdout",
     "output_type": "stream",
     "text": [
      "Il valore di a:  10\n"
     ]
    }
   ],
   "source": [
    "set_a()"
   ]
  },
  {
   "cell_type": "code",
   "execution_count": null,
   "id": "156259a4-ba55-4cd2-a0e9-897775288e07",
   "metadata": {},
   "outputs": [],
   "source": [
    "#quello che accade dentro la funione rimane all'interno della  funzione"
   ]
  },
  {
   "cell_type": "code",
   "execution_count": 40,
   "id": "0ac54ff2-0313-4162-aee5-2ccef592bb31",
   "metadata": {},
   "outputs": [
    {
     "name": "stdout",
     "output_type": "stream",
     "text": [
      "inizialmente il valore di a:  20\n",
      "Il valore di a:  10\n",
      "Alla fine il valore di a:  20\n"
     ]
    }
   ],
   "source": [
    "a = 20\n",
    "\n",
    "print(\"inizialmente il valore di a: \", a)\n",
    "\n",
    "set_a()\n",
    "\n",
    "print(\"Alla fine il valore di a: \", a)"
   ]
  },
  {
   "cell_type": "code",
   "execution_count": null,
   "id": "5fc239c0-ba0e-448a-bcd1-5d18579b6daa",
   "metadata": {},
   "outputs": [],
   "source": []
  }
 ],
 "metadata": {
  "kernelspec": {
   "display_name": "Python 3 (ipykernel)",
   "language": "python",
   "name": "python3"
  },
  "language_info": {
   "codemirror_mode": {
    "name": "ipython",
    "version": 3
   },
   "file_extension": ".py",
   "mimetype": "text/x-python",
   "name": "python",
   "nbconvert_exporter": "python",
   "pygments_lexer": "ipython3",
   "version": "3.11.5"
  }
 },
 "nbformat": 4,
 "nbformat_minor": 5
}
