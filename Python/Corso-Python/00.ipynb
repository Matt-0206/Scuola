{
 "cells": [
  {
   "cell_type": "code",
   "execution_count": null,
   "id": "5656b9f5-1907-454e-b538-76f497362d14",
   "metadata": {},
   "outputs": [
    {
     "data": {
      "text/plain": [
       "4"
      ]
     },
     "execution_count": 8,
     "metadata": {},
     "output_type": "execute_result"
    }
   ],
   "source": [
    "2+2"
   ]
  },
  {
   "cell_type": "code",
   "execution_count": null,
   "id": "67e81605-f49b-45bf-b423-cfa26ffd16a2",
   "metadata": {},
   "outputs": [
    {
     "data": {
      "text/plain": [
       "26.025000000000002"
      ]
     },
     "execution_count": 10,
     "metadata": {},
     "output_type": "execute_result"
    }
   ],
   "source": [
    "17.35*1.5"
   ]
  },
  {
   "cell_type": "code",
   "execution_count": null,
   "id": "be91d064-55aa-4a49-af16-8956212189c6",
   "metadata": {},
   "outputs": [
    {
     "data": {
      "text/plain": [
       "-20"
      ]
     },
     "execution_count": 12,
     "metadata": {},
     "output_type": "execute_result"
    }
   ],
   "source": [
    "5-25"
   ]
  },
  {
   "cell_type": "code",
   "execution_count": null,
   "id": "cf9c3979-1876-4fba-a2e9-e8cf58a904eb",
   "metadata": {},
   "outputs": [],
   "source": [
    "#questo è un commento."
   ]
  },
  {
   "cell_type": "code",
   "execution_count": 19,
   "id": "70ceff68-40e4-498d-ab3f-0244284e2493",
   "metadata": {},
   "outputs": [
    {
     "ename": "SyntaxError",
     "evalue": "invalid syntax (4209523232.py, line 1)",
     "output_type": "error",
     "traceback": [
      "\u001b[0;36m  Cell \u001b[0;32mIn[19], line 1\u001b[0;36m\u001b[0m\n\u001b[0;31m    2+\u001b[0m\n\u001b[0m      ^\u001b[0m\n\u001b[0;31mSyntaxError\u001b[0m\u001b[0;31m:\u001b[0m invalid syntax\n"
     ]
    }
   ],
   "source": [
    "2+"
   ]
  },
  {
   "cell_type": "code",
   "execution_count": null,
   "id": "4edfa285-8654-45be-a392-7d52d1f087fa",
   "metadata": {},
   "outputs": [],
   "source": []
  }
 ],
 "metadata": {
  "kernelspec": {
   "display_name": "anaconda-panel-2023.05-py310",
   "language": "python",
   "name": "conda-env-anaconda-panel-2023.05-py310-py"
  },
  "language_info": {
   "codemirror_mode": {
    "name": "ipython",
    "version": 3
   },
   "file_extension": ".py",
   "mimetype": "text/x-python",
   "name": "python",
   "nbconvert_exporter": "python",
   "pygments_lexer": "ipython3",
   "version": "3.11.4"
  }
 },
 "nbformat": 4,
 "nbformat_minor": 5
}
