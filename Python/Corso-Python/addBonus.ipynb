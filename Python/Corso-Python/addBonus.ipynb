{
 "cells": [
  {
   "cell_type": "markdown",
   "id": "b7ddab44",
   "metadata": {},
   "source": [
    "1) Vi pagano una somma \n",
    "2) Un bonus del 30% è applicato alla somma che vi viene data\n",
    "3) Creare una funzione addBonus che deve calcolare e ritornare il valore totale"
   ]
  },
  {
   "cell_type": "code",
   "execution_count": 22,
   "id": "4b71f44e",
   "metadata": {},
   "outputs": [],
   "source": [
    "def addBonus(n):\n",
    "    \n",
    "    Bonus = n * 0.3   \n",
    "    \n",
    "    Totale = n + Bonus\n",
    "    \n",
    "    print(\"Prima:\", n,\"€\")\n",
    "    \n",
    "    print(\"Dopo:\", Totale,\"€\")"
   ]
  },
  {
   "cell_type": "code",
   "execution_count": 25,
   "id": "a6ad120a",
   "metadata": {},
   "outputs": [
    {
     "name": "stdout",
     "output_type": "stream",
     "text": [
      "Prima: 3000 €\n",
      "Dopo: 3900.0 €\n"
     ]
    }
   ],
   "source": [
    "addBonus(3000)"
   ]
  },
  {
   "cell_type": "code",
   "execution_count": 26,
   "id": "1c9d0036",
   "metadata": {},
   "outputs": [],
   "source": [
    "#scopo della funzione "
   ]
  },
  {
   "cell_type": "code",
   "execution_count": 27,
   "id": "e3017bd5",
   "metadata": {},
   "outputs": [],
   "source": [
    "def scoped(first, second):\n",
    "    \n",
    "    third = second + second - first\n",
    "    \n",
    "    return third"
   ]
  },
  {
   "cell_type": "code",
   "execution_count": 30,
   "id": "ba33542f",
   "metadata": {},
   "outputs": [
    {
     "data": {
      "text/plain": [
       "15544"
      ]
     },
     "execution_count": 30,
     "metadata": {},
     "output_type": "execute_result"
    }
   ],
   "source": [
    "scoped(456,8000)"
   ]
  },
  {
   "cell_type": "code",
   "execution_count": 31,
   "id": "34e6690a",
   "metadata": {},
   "outputs": [
    {
     "data": {
      "text/plain": [
       "-10"
      ]
     },
     "execution_count": 31,
     "metadata": {},
     "output_type": "execute_result"
    }
   ],
   "source": [
    "third = 5000\n",
    "\n",
    "scoped(34,12)"
   ]
  },
  {
   "cell_type": "code",
   "execution_count": 32,
   "id": "f9d72f2e",
   "metadata": {},
   "outputs": [
    {
     "data": {
      "text/plain": [
       "5000"
      ]
     },
     "execution_count": 32,
     "metadata": {},
     "output_type": "execute_result"
    }
   ],
   "source": [
    "third"
   ]
  },
  {
   "cell_type": "code",
   "execution_count": null,
   "id": "add865ac",
   "metadata": {},
   "outputs": [],
   "source": []
  }
 ],
 "metadata": {
  "kernelspec": {
   "display_name": "Python 3 (ipykernel)",
   "language": "python",
   "name": "python3"
  },
  "language_info": {
   "codemirror_mode": {
    "name": "ipython",
    "version": 3
   },
   "file_extension": ".py",
   "mimetype": "text/x-python",
   "name": "python",
   "nbconvert_exporter": "python",
   "pygments_lexer": "ipython3",
   "version": "3.11.5"
  }
 },
 "nbformat": 4,
 "nbformat_minor": 5
}
