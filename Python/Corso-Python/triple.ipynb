{
 "cells": [
  {
   "cell_type": "code",
   "execution_count": 3,
   "id": "a266ac61-f03b-4617-82b9-e159b7361fbc",
   "metadata": {},
   "outputs": [],
   "source": [
    "def triple(sequence):\n",
    "    \n",
    "    result = []\n",
    "    \n",
    "    for element in sequence:\n",
    "        \n",
    "        result =  result + [element * 3]\n",
    "        \n",
    "    return result"
   ]
  },
  {
   "cell_type": "code",
   "execution_count": 5,
   "id": "aadc2aed-2cf9-4ab5-bd2c-114bea556b17",
   "metadata": {},
   "outputs": [
    {
     "data": {
      "text/plain": [
       "[6, 9, 27]"
      ]
     },
     "execution_count": 5,
     "metadata": {},
     "output_type": "execute_result"
    }
   ],
   "source": [
    "triple([2, 3, 9])"
   ]
  },
  {
   "cell_type": "code",
   "execution_count": null,
   "id": "24914984-9f76-4212-93be-9e943a666009",
   "metadata": {},
   "outputs": [],
   "source": []
  },
  {
   "cell_type": "code",
   "execution_count": null,
   "id": "df9895d7-b78d-46ca-8a6f-5798cd5381a4",
   "metadata": {},
   "outputs": [],
   "source": []
  }
 ],
 "metadata": {
  "kernelspec": {
   "display_name": "anaconda-panel-2023.05-py310",
   "language": "python",
   "name": "conda-env-anaconda-panel-2023.05-py310-py"
  },
  "language_info": {
   "codemirror_mode": {
    "name": "ipython",
    "version": 3
   },
   "file_extension": ".py",
   "mimetype": "text/x-python",
   "name": "python",
   "nbconvert_exporter": "python",
   "pygments_lexer": "ipython3",
   "version": "3.11.4"
  }
 },
 "nbformat": 4,
 "nbformat_minor": 5
}
