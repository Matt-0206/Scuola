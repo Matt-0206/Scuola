{
 "cells": [
  {
   "cell_type": "code",
   "execution_count": 1,
   "id": "e61348c9-89d6-4e66-a22a-49d64ca88fa9",
   "metadata": {},
   "outputs": [],
   "source": [
    "def quadruple(sequence):\n",
    "    \n",
    "    result = []\n",
    "    \n",
    "    for element in sequence:\n",
    "        \n",
    "        result =  result + [element * 4]\n",
    "        \n",
    "    return result"
   ]
  },
  {
   "cell_type": "code",
   "execution_count": 3,
   "id": "8dc7d9a0-335c-4a39-9c29-4c622bb6ecbd",
   "metadata": {},
   "outputs": [
    {
     "data": {
      "text/plain": [
       "[8, 16, 28]"
      ]
     },
     "execution_count": 3,
     "metadata": {},
     "output_type": "execute_result"
    }
   ],
   "source": [
    "quadruple([2, 4, 7])"
   ]
  },
  {
   "cell_type": "code",
   "execution_count": null,
   "id": "20a8230a-714f-4c06-9444-822d6f11f72b",
   "metadata": {},
   "outputs": [],
   "source": []
  }
 ],
 "metadata": {
  "kernelspec": {
   "display_name": "anaconda-panel-2023.05-py310",
   "language": "python",
   "name": "conda-env-anaconda-panel-2023.05-py310-py"
  },
  "language_info": {
   "codemirror_mode": {
    "name": "ipython",
    "version": 3
   },
   "file_extension": ".py",
   "mimetype": "text/x-python",
   "name": "python",
   "nbconvert_exporter": "python",
   "pygments_lexer": "ipython3",
   "version": "3.11.4"
  }
 },
 "nbformat": 4,
 "nbformat_minor": 5
}
