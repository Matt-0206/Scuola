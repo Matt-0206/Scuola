{
 "cells": [
  {
   "cell_type": "code",
   "execution_count": 1,
   "id": "d56d34e4",
   "metadata": {},
   "outputs": [],
   "source": [
    "sequenza = \"ambarabaciccicocco\""
   ]
  },
  {
   "cell_type": "code",
   "execution_count": 2,
   "id": "6cd9d0ee",
   "metadata": {},
   "outputs": [
    {
     "data": {
      "text/plain": [
       "18"
      ]
     },
     "execution_count": 2,
     "metadata": {},
     "output_type": "execute_result"
    }
   ],
   "source": [
    "len(sequenza)"
   ]
  },
  {
   "cell_type": "code",
   "execution_count": 3,
   "id": "32957b07",
   "metadata": {},
   "outputs": [],
   "source": [
    "sequenza = [12, 67, 54]"
   ]
  },
  {
   "cell_type": "code",
   "execution_count": 5,
   "id": "363ba529",
   "metadata": {},
   "outputs": [
    {
     "data": {
      "text/plain": [
       "3"
      ]
     },
     "execution_count": 5,
     "metadata": {},
     "output_type": "execute_result"
    }
   ],
   "source": [
    "len(sequenza)"
   ]
  },
  {
   "cell_type": "code",
   "execution_count": 7,
   "id": "a131f55c",
   "metadata": {},
   "outputs": [],
   "source": [
    "sequenza = [\"Cane\", \"Gatto\", \"Topo\",\"Mucca\"]"
   ]
  },
  {
   "cell_type": "code",
   "execution_count": 8,
   "id": "0f24c1de",
   "metadata": {},
   "outputs": [
    {
     "data": {
      "text/plain": [
       "4"
      ]
     },
     "execution_count": 8,
     "metadata": {},
     "output_type": "execute_result"
    }
   ],
   "source": [
    "len(sequenza)"
   ]
  },
  {
   "cell_type": "code",
   "execution_count": 11,
   "id": "0a58cc96",
   "metadata": {},
   "outputs": [],
   "source": [
    "sequenza = ['Cane', 'Gatto']"
   ]
  },
  {
   "cell_type": "code",
   "execution_count": 21,
   "id": "59af3a16",
   "metadata": {},
   "outputs": [],
   "source": [
    "def mean(sequence):\n",
    "    \n",
    "    for element in sequence:\n",
    "        \n",
    "        total = total + element\n",
    "    \n",
    "    return total / len(sequence)"
   ]
  },
  {
   "cell_type": "code",
   "execution_count": 22,
   "id": "0ffe2c34",
   "metadata": {
    "scrolled": true
   },
   "outputs": [
    {
     "ename": "UnboundLocalError",
     "evalue": "cannot access local variable 'total' where it is not associated with a value",
     "output_type": "error",
     "traceback": [
      "\u001b[1;31m---------------------------------------------------------------------------\u001b[0m",
      "\u001b[1;31mUnboundLocalError\u001b[0m                         Traceback (most recent call last)",
      "Cell \u001b[1;32mIn[22], line 1\u001b[0m\n\u001b[1;32m----> 1\u001b[0m mean([\u001b[38;5;241m7\u001b[39m, \u001b[38;5;241m6\u001b[39m, \u001b[38;5;241m4\u001b[39m])\n",
      "Cell \u001b[1;32mIn[21], line 5\u001b[0m, in \u001b[0;36mmean\u001b[1;34m(sequence)\u001b[0m\n\u001b[0;32m      1\u001b[0m \u001b[38;5;28;01mdef\u001b[39;00m \u001b[38;5;21mmean\u001b[39m(sequence):\n\u001b[0;32m      3\u001b[0m     \u001b[38;5;28;01mfor\u001b[39;00m element \u001b[38;5;129;01min\u001b[39;00m sequence:\n\u001b[1;32m----> 5\u001b[0m         total \u001b[38;5;241m=\u001b[39m total \u001b[38;5;241m+\u001b[39m element\n\u001b[0;32m      7\u001b[0m     \u001b[38;5;28;01mreturn\u001b[39;00m total \u001b[38;5;241m/\u001b[39m \u001b[38;5;28mlen\u001b[39m(sequence)\n",
      "\u001b[1;31mUnboundLocalError\u001b[0m: cannot access local variable 'total' where it is not associated with a value"
     ]
    }
   ],
   "source": [
    "mean([7, 6, 4])"
   ]
  },
  {
   "cell_type": "code",
   "execution_count": null,
   "id": "495dca4e",
   "metadata": {},
   "outputs": [],
   "source": []
  },
  {
   "cell_type": "code",
   "execution_count": 25,
   "id": "dd058b19",
   "metadata": {},
   "outputs": [],
   "source": [
    "def mean(sequence):\n",
    "    \n",
    "    total = 0 #bisogna inizializzare total dandogli un valore\n",
    "    \n",
    "    for element in sequence:\n",
    "        \n",
    "        total = total + element\n",
    "    \n",
    "    return total / len(sequence)"
   ]
  },
  {
   "cell_type": "code",
   "execution_count": 26,
   "id": "6eda12f9",
   "metadata": {},
   "outputs": [
    {
     "data": {
      "text/plain": [
       "5.666666666666667"
      ]
     },
     "execution_count": 26,
     "metadata": {},
     "output_type": "execute_result"
    }
   ],
   "source": [
    "mean([7, 6, 4])"
   ]
  },
  {
   "cell_type": "code",
   "execution_count": 30,
   "id": "f1fdf61e",
   "metadata": {},
   "outputs": [],
   "source": [
    "voti=([6, 8, 9, 10, 1])"
   ]
  },
  {
   "cell_type": "code",
   "execution_count": 31,
   "id": "d3b95de0",
   "metadata": {},
   "outputs": [
    {
     "data": {
      "text/plain": [
       "6.8"
      ]
     },
     "execution_count": 31,
     "metadata": {},
     "output_type": "execute_result"
    }
   ],
   "source": [
    "mean(voti)"
   ]
  },
  {
   "cell_type": "code",
   "execution_count": null,
   "id": "799d9487",
   "metadata": {},
   "outputs": [],
   "source": []
  }
 ],
 "metadata": {
  "kernelspec": {
   "display_name": "Python 3 (ipykernel)",
   "language": "python",
   "name": "python3"
  },
  "language_info": {
   "codemirror_mode": {
    "name": "ipython",
    "version": 3
   },
   "file_extension": ".py",
   "mimetype": "text/x-python",
   "name": "python",
   "nbconvert_exporter": "python",
   "pygments_lexer": "ipython3",
   "version": "3.11.5"
  }
 },
 "nbformat": 4,
 "nbformat_minor": 5
}
