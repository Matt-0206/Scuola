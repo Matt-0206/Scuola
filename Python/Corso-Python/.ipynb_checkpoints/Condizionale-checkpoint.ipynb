{
 "cells": [
  {
   "cell_type": "code",
   "execution_count": 16,
   "id": "aa3fb089",
   "metadata": {},
   "outputs": [],
   "source": [
    "def secret(word):\n",
    "    \n",
    "    if word == 'please':\n",
    "        \n",
    "        return 'Yes'"
   ]
  },
  {
   "cell_type": "code",
   "execution_count": 17,
   "id": "48a6eacb",
   "metadata": {},
   "outputs": [
    {
     "data": {
      "text/plain": [
       "'Yes'"
      ]
     },
     "execution_count": 17,
     "metadata": {},
     "output_type": "execute_result"
    }
   ],
   "source": [
    "secret('please')"
   ]
  },
  {
   "cell_type": "code",
   "execution_count": 22,
   "id": "56576cda",
   "metadata": {},
   "outputs": [],
   "source": [
    "def yesno(word):\n",
    "    \n",
    "    if word == 'yes':\n",
    "        \n",
    "        return True\n",
    "    \n",
    "    if word == 'no':\n",
    "        \n",
    "        return False"
   ]
  },
  {
   "cell_type": "code",
   "execution_count": 23,
   "id": "81a0a827",
   "metadata": {},
   "outputs": [
    {
     "data": {
      "text/plain": [
       "True"
      ]
     },
     "execution_count": 23,
     "metadata": {},
     "output_type": "execute_result"
    }
   ],
   "source": [
    "yesno('yes')"
   ]
  },
  {
   "cell_type": "code",
   "execution_count": 24,
   "id": "367bd31f",
   "metadata": {},
   "outputs": [
    {
     "data": {
      "text/plain": [
       "False"
      ]
     },
     "execution_count": 24,
     "metadata": {},
     "output_type": "execute_result"
    }
   ],
   "source": [
    "yesno('no')"
   ]
  },
  {
   "cell_type": "code",
   "execution_count": 27,
   "id": "b7bf867d",
   "metadata": {},
   "outputs": [],
   "source": [
    "def secret(word):\n",
    "    \n",
    "    if word == 'please':\n",
    "    \n",
    "        return True\n",
    "    \n",
    "    else:\n",
    "        \n",
    "        return False"
   ]
  },
  {
   "cell_type": "code",
   "execution_count": 28,
   "id": "c1fd12c7",
   "metadata": {},
   "outputs": [
    {
     "data": {
      "text/plain": [
       "False"
      ]
     },
     "execution_count": 28,
     "metadata": {},
     "output_type": "execute_result"
    }
   ],
   "source": [
    "secret('Braccobaldo')"
   ]
  },
  {
   "cell_type": "code",
   "execution_count": 29,
   "id": "5639bfb7",
   "metadata": {},
   "outputs": [],
   "source": [
    "#refactoring "
   ]
  },
  {
   "cell_type": "code",
   "execution_count": 30,
   "id": "2399f78e",
   "metadata": {},
   "outputs": [],
   "source": [
    "def secret(word):\n",
    "    \n",
    "    return(word == 'please')"
   ]
  },
  {
   "cell_type": "code",
   "execution_count": 31,
   "id": "f2693fee",
   "metadata": {},
   "outputs": [
    {
     "data": {
      "text/plain": [
       "False"
      ]
     },
     "execution_count": 31,
     "metadata": {},
     "output_type": "execute_result"
    }
   ],
   "source": [
    "secret('Braccobaldo')"
   ]
  },
  {
   "cell_type": "code",
   "execution_count": 32,
   "id": "ca923c37",
   "metadata": {},
   "outputs": [
    {
     "data": {
      "text/plain": [
       "True"
      ]
     },
     "execution_count": 32,
     "metadata": {},
     "output_type": "execute_result"
    }
   ],
   "source": [
    "secret('please')"
   ]
  },
  {
   "cell_type": "code",
   "execution_count": null,
   "id": "5767e830",
   "metadata": {},
   "outputs": [],
   "source": []
  }
 ],
 "metadata": {
  "kernelspec": {
   "display_name": "Python 3 (ipykernel)",
   "language": "python",
   "name": "python3"
  },
  "language_info": {
   "codemirror_mode": {
    "name": "ipython",
    "version": 3
   },
   "file_extension": ".py",
   "mimetype": "text/x-python",
   "name": "python",
   "nbconvert_exporter": "python",
   "pygments_lexer": "ipython3",
   "version": "3.11.5"
  }
 },
 "nbformat": 4,
 "nbformat_minor": 5
}
