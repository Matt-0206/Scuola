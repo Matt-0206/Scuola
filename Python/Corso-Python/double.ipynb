{
 "cells": [
  {
   "cell_type": "code",
   "execution_count": 101,
   "id": "bea5a22e-932d-4f8c-b888-2a2f5fcaa89d",
   "metadata": {},
   "outputs": [],
   "source": [
    "#prende una sequenza di numeri e ritorna la sequenza con tutti i numeri raddopiati, una funzione accetta argomenti e ritorna "
   ]
  },
  {
   "cell_type": "code",
   "execution_count": 114,
   "id": "5f1ff926-4175-4889-8a28-449a1f986213",
   "metadata": {
    "tags": []
   },
   "outputs": [],
   "source": [
    "def double(sequence):\n",
    "    \n",
    "    result = []\n",
    "    \n",
    "    for element in sequence:\n",
    "        \n",
    "        result =  result + [element * 2]\n",
    "        \n",
    "    return result"
   ]
  },
  {
   "cell_type": "code",
   "execution_count": 116,
   "id": "af98296b-9d88-409f-80d4-e40bd8a04597",
   "metadata": {
    "tags": []
   },
   "outputs": [
    {
     "data": {
      "text/plain": [
       "[20, 40]"
      ]
     },
     "execution_count": 116,
     "metadata": {},
     "output_type": "execute_result"
    }
   ],
   "source": [
    "double([10, 20])"
   ]
  },
  {
   "cell_type": "code",
   "execution_count": 118,
   "id": "77b5f13d-c9a8-4d5d-b1bb-95193e91fe8b",
   "metadata": {},
   "outputs": [
    {
     "data": {
      "text/plain": [
       "[-84, 0, 84]"
      ]
     },
     "execution_count": 118,
     "metadata": {},
     "output_type": "execute_result"
    }
   ],
   "source": [
    "double([-42, 0, 42])"
   ]
  },
  {
   "cell_type": "code",
   "execution_count": 120,
   "id": "e3042986-c65b-4cd1-9ea1-ceccc4685fe5",
   "metadata": {},
   "outputs": [
    {
     "data": {
      "text/plain": [
       "[60]"
      ]
     },
     "execution_count": 120,
     "metadata": {},
     "output_type": "execute_result"
    }
   ],
   "source": [
    "double([30])"
   ]
  },
  {
   "cell_type": "code",
   "execution_count": 122,
   "id": "c4601bb9-4d9e-4ec9-adbf-7f8947d87fc1",
   "metadata": {},
   "outputs": [
    {
     "data": {
      "text/plain": [
       "[]"
      ]
     },
     "execution_count": 122,
     "metadata": {},
     "output_type": "execute_result"
    }
   ],
   "source": [
    "double([])"
   ]
  },
  {
   "cell_type": "code",
   "execution_count": 124,
   "id": "5ba6dcfe-68e4-4703-9f63-56e8f3ee40a4",
   "metadata": {},
   "outputs": [
    {
     "ename": "TypeError",
     "evalue": "double() missing 1 required positional argument: 'sequence'",
     "output_type": "error",
     "traceback": [
      "\u001b[0;31m---------------------------------------------------------------------------\u001b[0m",
      "\u001b[0;31mTypeError\u001b[0m                                 Traceback (most recent call last)",
      "Cell \u001b[0;32mIn[124], line 1\u001b[0m\n\u001b[0;32m----> 1\u001b[0m double()\n",
      "\u001b[0;31mTypeError\u001b[0m: double() missing 1 required positional argument: 'sequence'"
     ]
    }
   ],
   "source": [
    "double()"
   ]
  },
  {
   "cell_type": "code",
   "execution_count": null,
   "id": "d5792c46-8ca8-4911-9031-93287faf1476",
   "metadata": {},
   "outputs": [],
   "source": [
    "x = [1, 2, 3]"
   ]
  },
  {
   "cell_type": "code",
   "execution_count": 126,
   "id": "eb39e4cd-52a8-4bab-9e16-3ad1967acdc4",
   "metadata": {},
   "outputs": [
    {
     "data": {
      "text/plain": [
       "[2, 4, 6]"
      ]
     },
     "execution_count": 126,
     "metadata": {},
     "output_type": "execute_result"
    }
   ],
   "source": [
    "double(x)"
   ]
  },
  {
   "cell_type": "code",
   "execution_count": 128,
   "id": "d5cadf47-ad4b-472e-a870-22b0a7a9bd2b",
   "metadata": {},
   "outputs": [
    {
     "data": {
      "text/plain": [
       "[1, 2, 3]"
      ]
     },
     "execution_count": 128,
     "metadata": {},
     "output_type": "execute_result"
    }
   ],
   "source": [
    "x"
   ]
  },
  {
   "cell_type": "code",
   "execution_count": 4,
   "id": "3de8df0c",
   "metadata": {},
   "outputs": [],
   "source": [
    "def double(sequence):\n",
    "    \n",
    "    result = []\n",
    "    \n",
    "    for element in sequence:\n",
    "        \n",
    "        \n",
    "        result = result + [element * 2]\n",
    "        \n",
    "    return result"
   ]
  },
  {
   "cell_type": "code",
   "execution_count": 5,
   "id": "4893ee9a",
   "metadata": {},
   "outputs": [
    {
     "data": {
      "text/plain": [
       "[20, 40]"
      ]
     },
     "execution_count": 5,
     "metadata": {},
     "output_type": "execute_result"
    }
   ],
   "source": [
    "double([10, 20])"
   ]
  },
  {
   "cell_type": "code",
   "execution_count": 6,
   "id": "9c64621a",
   "metadata": {},
   "outputs": [
    {
     "data": {
      "text/plain": [
       "['HelloHello', 'worldworld']"
      ]
     },
     "execution_count": 6,
     "metadata": {},
     "output_type": "execute_result"
    }
   ],
   "source": [
    "double(['Hello', 'world'])"
   ]
  },
  {
   "cell_type": "code",
   "execution_count": 7,
   "id": "5da1004a",
   "metadata": {},
   "outputs": [
    {
     "data": {
      "text/plain": [
       "['zz', 'oo', 'rr', 'rr', 'oo']"
      ]
     },
     "execution_count": 7,
     "metadata": {},
     "output_type": "execute_result"
    }
   ],
   "source": [
    "double('zorro')"
   ]
  },
  {
   "cell_type": "code",
   "execution_count": 10,
   "id": "8d3d7562",
   "metadata": {},
   "outputs": [],
   "source": [
    "saluti = 'hello'"
   ]
  },
  {
   "cell_type": "code",
   "execution_count": 11,
   "id": "bfceebdd",
   "metadata": {},
   "outputs": [
    {
     "data": {
      "text/plain": [
       "True"
      ]
     },
     "execution_count": 11,
     "metadata": {},
     "output_type": "execute_result"
    }
   ],
   "source": [
    "saluti == 'hello'"
   ]
  },
  {
   "cell_type": "code",
   "execution_count": 6,
   "id": "a3a1a875",
   "metadata": {},
   "outputs": [],
   "source": [
    "def double(sequence):\n",
    "    \n",
    "    result = []\n",
    "    \n",
    "    for element in sequence:\n",
    "        \n",
    "        result = resul + [element * '!']\n",
    "        \n",
    "    return result"
   ]
  },
  {
   "cell_type": "code",
   "execution_count": 7,
   "id": "8e97bc7f",
   "metadata": {},
   "outputs": [
    {
     "ename": "NameError",
     "evalue": "name 'resul' is not defined",
     "output_type": "error",
     "traceback": [
      "\u001b[1;31m---------------------------------------------------------------------------\u001b[0m",
      "\u001b[1;31mNameError\u001b[0m                                 Traceback (most recent call last)",
      "Cell \u001b[1;32mIn[7], line 1\u001b[0m\n\u001b[1;32m----> 1\u001b[0m double([\u001b[38;5;124m'\u001b[39m\u001b[38;5;124mtest\u001b[39m\u001b[38;5;124m'\u001b[39m])\n",
      "Cell \u001b[1;32mIn[6], line 7\u001b[0m, in \u001b[0;36mdouble\u001b[1;34m(sequence)\u001b[0m\n\u001b[0;32m      3\u001b[0m result \u001b[38;5;241m=\u001b[39m []\n\u001b[0;32m      5\u001b[0m \u001b[38;5;28;01mfor\u001b[39;00m element \u001b[38;5;129;01min\u001b[39;00m sequence:\n\u001b[1;32m----> 7\u001b[0m     result \u001b[38;5;241m=\u001b[39m resul \u001b[38;5;241m+\u001b[39m [element \u001b[38;5;241m*\u001b[39m \u001b[38;5;124m'\u001b[39m\u001b[38;5;124m!\u001b[39m\u001b[38;5;124m'\u001b[39m]\n\u001b[0;32m      9\u001b[0m \u001b[38;5;28;01mreturn\u001b[39;00m result\n",
      "\u001b[1;31mNameError\u001b[0m: name 'resul' is not defined"
     ]
    }
   ],
   "source": [
    "double(['test'])"
   ]
  },
  {
   "cell_type": "code",
   "execution_count": null,
   "id": "801e8a25",
   "metadata": {},
   "outputs": [],
   "source": []
  }
 ],
 "metadata": {
  "kernelspec": {
   "display_name": "Python 3 (ipykernel)",
   "language": "python",
   "name": "python3"
  },
  "language_info": {
   "codemirror_mode": {
    "name": "ipython",
    "version": 3
   },
   "file_extension": ".py",
   "mimetype": "text/x-python",
   "name": "python",
   "nbconvert_exporter": "python",
   "pygments_lexer": "ipython3",
   "version": "3.11.5"
  }
 },
 "nbformat": 4,
 "nbformat_minor": 5
}
