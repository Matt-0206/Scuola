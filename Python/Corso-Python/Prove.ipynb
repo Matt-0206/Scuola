{
 "cells": [
  {
   "cell_type": "code",
   "execution_count": 1,
   "id": "fb272862-2bb3-4512-9938-83358279c9ef",
   "metadata": {},
   "outputs": [
    {
     "data": {
      "text/plain": [
       "37476"
      ]
     },
     "execution_count": 1,
     "metadata": {},
     "output_type": "execute_result"
    }
   ],
   "source": [
    "7500 * 5 - 24\n"
   ]
  },
  {
   "cell_type": "code",
   "execution_count": 3,
   "id": "70880e8b-8458-4ff1-be8f-1ae6444fecdf",
   "metadata": {},
   "outputs": [
    {
     "data": {
      "text/plain": [
       "13"
      ]
     },
     "execution_count": 3,
     "metadata": {},
     "output_type": "execute_result"
    }
   ],
   "source": [
    "(5 + 8) * (3 - 2)"
   ]
  },
  {
   "cell_type": "code",
   "execution_count": 5,
   "id": "d6c43eeb-ec0f-443e-a9eb-23d622f48ee0",
   "metadata": {},
   "outputs": [
    {
     "ename": "SyntaxError",
     "evalue": "invalid syntax (3217367298.py, line 1)",
     "output_type": "error",
     "traceback": [
      "\u001b[0;36m  Cell \u001b[0;32mIn[5], line 1\u001b[0;36m\u001b[0m\n\u001b[0;31m    (5+8)*(3-)\u001b[0m\n\u001b[0m             ^\u001b[0m\n\u001b[0;31mSyntaxError\u001b[0m\u001b[0;31m:\u001b[0m invalid syntax\n"
     ]
    }
   ],
   "source": [
    "(5 + 8) * (3 - )"
   ]
  },
  {
   "cell_type": "code",
   "execution_count": 7,
   "id": "a4dcce91-603e-49bd-b76f-4f84297be2cd",
   "metadata": {},
   "outputs": [],
   "source": [
    "#il comune di cividale ti paga 1500€ però su questa cifra bisgona pagare il 10% di tassa, calcola \n",
    "#a quanto ammonta la tassa"
   ]
  },
  {
   "cell_type": "code",
   "execution_count": 11,
   "id": "f989f2ff-5f10-4143-819d-4612aefa3983",
   "metadata": {},
   "outputs": [
    {
     "data": {
      "text/plain": [
       "150.0"
      ]
     },
     "execution_count": 11,
     "metadata": {},
     "output_type": "execute_result"
    }
   ],
   "source": [
    "1500 * 10 / 100\n"
   ]
  },
  {
   "cell_type": "code",
   "execution_count": 17,
   "id": "1488475d-d411-43e4-8861-cd57a114aca4",
   "metadata": {},
   "outputs": [
    {
     "data": {
      "text/plain": [
       "150.0"
      ]
     },
     "execution_count": 17,
     "metadata": {},
     "output_type": "execute_result"
    }
   ],
   "source": [
    "def tax(valore): \n",
    "    \n",
    "    return valore * 0.1\n",
    "\n",
    "tax(1500)"
   ]
  },
  {
   "cell_type": "code",
   "execution_count": 19,
   "id": "e7d0754a-5dd3-4108-926b-70b061d21dbc",
   "metadata": {},
   "outputs": [
    {
     "data": {
      "text/plain": [
       "1580.0"
      ]
     },
     "execution_count": 19,
     "metadata": {},
     "output_type": "execute_result"
    }
   ],
   "source": [
    "tax(15800)\n"
   ]
  },
  {
   "cell_type": "code",
   "execution_count": 21,
   "id": "ab7cd216-6891-4905-b8ab-dd9981a6592a",
   "metadata": {},
   "outputs": [],
   "source": [
    "#funzione \"guadagno\" che accetti un valore, deve calcolare l'importo della tassa, nuova variabile chiamata netto \n",
    "#netto calcola quanto prendiamo noi"
   ]
  },
  {
   "cell_type": "code",
   "execution_count": 39,
   "id": "30830fe8-063e-4e34-a26e-d5fd29363227",
   "metadata": {},
   "outputs": [
    {
     "data": {
      "text/plain": [
       "1230.0"
      ]
     },
     "execution_count": 39,
     "metadata": {},
     "output_type": "execute_result"
    }
   ],
   "source": [
    "def tax(lordo):\n",
    "\n",
    "    return lordo * 0.1\n",
    "\n",
    "tax(12300)"
   ]
  },
  {
   "cell_type": "code",
   "execution_count": 57,
   "id": "5dd3c2a0-ac33-41d6-847a-909f6e264d44",
   "metadata": {},
   "outputs": [],
   "source": [
    "#funzione guadagno (def sta per \"define\" ovvero definisce la funzione)\n",
    "def guadagno(valore):\n",
    "    \n",
    "    #Valore con formula per calcolare la tassa\n",
    "    tassa = valore * 0.10\n",
    "    \n",
    "    #Valore con formula per calcolare netto\n",
    "    netto = valore - tassa\n",
    "    \n",
    "    #ritorna il valore di netto ovvero il risultato finale\n",
    "    return netto\n",
    "\n",
    "#premere shift+invio per memorizzare la funzione"
   ]
  },
  {
   "cell_type": "code",
   "execution_count": 61,
   "id": "f8a68ced-a4af-4b86-8491-90cf7f2e30da",
   "metadata": {},
   "outputs": [
    {
     "data": {
      "text/plain": [
       "11070.0"
      ]
     },
     "execution_count": 61,
     "metadata": {},
     "output_type": "execute_result"
    }
   ],
   "source": [
    "#applicare un valore a guadagno\n",
    "guadagno(12300)\n",
    "\n",
    "#premere shift+invio per poter eseguire la funzione e mostrerà il risultato finale"
   ]
  },
  {
   "cell_type": "code",
   "execution_count": null,
   "id": "6dfbbd07-b1d3-4e7b-9a00-9c988a3a5028",
   "metadata": {},
   "outputs": [],
   "source": []
  }
 ],
 "metadata": {
  "kernelspec": {
   "display_name": "anaconda-panel-2023.05-py310",
   "language": "python",
   "name": "conda-env-anaconda-panel-2023.05-py310-py"
  },
  "language_info": {
   "codemirror_mode": {
    "name": "ipython",
    "version": 3
   },
   "file_extension": ".py",
   "mimetype": "text/x-python",
   "name": "python",
   "nbconvert_exporter": "python",
   "pygments_lexer": "ipython3",
   "version": "3.11.4"
  }
 },
 "nbformat": 4,
 "nbformat_minor": 5
}
