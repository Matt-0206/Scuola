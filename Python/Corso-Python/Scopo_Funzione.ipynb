{
 "cells": [
  {
   "cell_type": "code",
   "execution_count": 5,
   "id": "cd71d3ef-7bf0-4de7-900e-6fd165cb130f",
   "metadata": {},
   "outputs": [],
   "source": [
    "def set_a():\n",
    "    \n",
    "    a = 10\n",
    "    \n",
    "    print (\"il valore di a è:\" , a)"
   ]
  },
  {
   "cell_type": "code",
   "execution_count": 7,
   "id": "2dae81d1-cf99-4a08-98dc-f0caeb67f6d3",
   "metadata": {},
   "outputs": [
    {
     "data": {
      "text/plain": [
       "<function __main__.set_a()>"
      ]
     },
     "execution_count": 7,
     "metadata": {},
     "output_type": "execute_result"
    }
   ],
   "source": [
    "set_a"
   ]
  },
  {
   "cell_type": "code",
   "execution_count": 11,
   "id": "16ac835c-19ab-4783-b14c-ca472b28d73d",
   "metadata": {},
   "outputs": [
    {
     "name": "stdout",
     "output_type": "stream",
     "text": [
      "il valore di a è: 10\n"
     ]
    }
   ],
   "source": [
    "set_a()"
   ]
  },
  {
   "cell_type": "code",
   "execution_count": 15,
   "id": "0b007db0-6b79-4833-bfeb-c43665dc7747",
   "metadata": {},
   "outputs": [
    {
     "name": "stdout",
     "output_type": "stream",
     "text": [
      "inizialmente il valore di a è: 20\n",
      "il valore di a è: 10\n",
      "alla fine il valore di a è: 20\n"
     ]
    }
   ],
   "source": [
    "a = 20 \n",
    "\n",
    "print(\"inizialmente il valore di a è:\", a)\n",
    "\n",
    "set_a()\n",
    "\n",
    "print(\"alla fine il valore di a è:\", a)"
   ]
  },
  {
   "cell_type": "code",
   "execution_count": 33,
   "id": "de9f75d8-02d5-4d8d-acc5-0342cf856960",
   "metadata": {},
   "outputs": [],
   "source": [
    "lista = [5, 8, 36, -144, 10, 45, 55]"
   ]
  },
  {
   "cell_type": "code",
   "execution_count": 21,
   "id": "e666f1de-aee2-400e-8bb7-8e41a0239baa",
   "metadata": {},
   "outputs": [
    {
     "data": {
      "text/plain": [
       "[5, 8, 36, -144]"
      ]
     },
     "execution_count": 21,
     "metadata": {},
     "output_type": "execute_result"
    }
   ],
   "source": [
    "lista"
   ]
  },
  {
   "cell_type": "code",
   "execution_count": 27,
   "id": "b13b546f-f6fa-4cfa-ba98-5211a00713d3",
   "metadata": {},
   "outputs": [
    {
     "name": "stdout",
     "output_type": "stream",
     "text": [
      "5\n",
      "8\n",
      "36\n",
      "-144\n"
     ]
    }
   ],
   "source": [
    "#funzione temporanea che indica il valore num (numeri) per ogni singolo numero all'interno (in) di lista\n",
    "for num in lista: \n",
    "    \n",
    "    #printa ogni singolo numero all'interno della lista\n",
    "    print(num)"
   ]
  },
  {
   "cell_type": "code",
   "execution_count": 1,
   "id": "c70a1efd-6603-4ee9-bd0a-2f1e5a539e62",
   "metadata": {},
   "outputs": [
    {
     "ename": "NameError",
     "evalue": "name 'lista' is not defined",
     "output_type": "error",
     "traceback": [
      "\u001b[1;31m---------------------------------------------------------------------------\u001b[0m",
      "\u001b[1;31mNameError\u001b[0m                                 Traceback (most recent call last)",
      "Cell \u001b[1;32mIn[1], line 2\u001b[0m\n\u001b[0;32m      1\u001b[0m \u001b[38;5;66;03m#len (length) mostra il numero di elementi dentro la lista \u001b[39;00m\n\u001b[1;32m----> 2\u001b[0m \u001b[38;5;28mlen\u001b[39m(lista)\n",
      "\u001b[1;31mNameError\u001b[0m: name 'lista' is not defined"
     ]
    }
   ],
   "source": [
    "#len (length) mostra il numero di elementi dentro la lista \n",
    "len(lista)"
   ]
  },
  {
   "cell_type": "markdown",
   "id": "4f307251",
   "metadata": {},
   "source": []
  },
  {
   "cell_type": "code",
   "execution_count": null,
   "id": "a6622558",
   "metadata": {},
   "outputs": [],
   "source": []
  }
 ],
 "metadata": {
  "kernelspec": {
   "display_name": "Python 3 (ipykernel)",
   "language": "python",
   "name": "python3"
  },
  "language_info": {
   "codemirror_mode": {
    "name": "ipython",
    "version": 3
   },
   "file_extension": ".py",
   "mimetype": "text/x-python",
   "name": "python",
   "nbconvert_exporter": "python",
   "pygments_lexer": "ipython3",
   "version": "3.11.5"
  }
 },
 "nbformat": 4,
 "nbformat_minor": 5
}
